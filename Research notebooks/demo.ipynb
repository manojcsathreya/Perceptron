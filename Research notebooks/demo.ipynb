{
 "cells": [
  {
   "cell_type": "code",
   "execution_count": 1,
   "metadata": {},
   "outputs": [],
   "source": [
    "import numpy as np"
   ]
  },
  {
   "cell_type": "code",
   "execution_count": 2,
   "metadata": {},
   "outputs": [
    {
     "ename": "ModuleNotFoundError",
     "evalue": "No module named 'utils'",
     "output_type": "error",
     "traceback": [
      "\u001b[1;31m---------------------------------------------------------------------------\u001b[0m",
      "\u001b[1;31mModuleNotFoundError\u001b[0m                       Traceback (most recent call last)",
      "\u001b[1;32m~\\AppData\\Local\\Temp/ipykernel_26656/1625763126.py\u001b[0m in \u001b[0;36m<module>\u001b[1;34m\u001b[0m\n\u001b[0;32m      5\u001b[0m \u001b[1;33m\u001b[0m\u001b[0m\n\u001b[0;32m      6\u001b[0m \u001b[1;33m\u001b[0m\u001b[0m\n\u001b[1;32m----> 7\u001b[1;33m \u001b[1;32mfrom\u001b[0m \u001b[0mutils\u001b[0m\u001b[1;33m.\u001b[0m\u001b[0mmodel\u001b[0m \u001b[1;32mimport\u001b[0m \u001b[0mPerceptron\u001b[0m\u001b[1;33m\u001b[0m\u001b[1;33m\u001b[0m\u001b[0m\n\u001b[0m\u001b[0;32m      8\u001b[0m \u001b[1;32mfrom\u001b[0m \u001b[0mutils\u001b[0m\u001b[1;33m.\u001b[0m\u001b[0mall_utils\u001b[0m \u001b[1;32mimport\u001b[0m \u001b[0mprepare_data\u001b[0m\u001b[1;33m,\u001b[0m \u001b[0msave_plot\u001b[0m\u001b[1;33m,\u001b[0m \u001b[0msave_model\u001b[0m\u001b[1;33m\u001b[0m\u001b[1;33m\u001b[0m\u001b[0m\n\u001b[0;32m      9\u001b[0m \u001b[1;32mimport\u001b[0m \u001b[0mpandas\u001b[0m \u001b[1;32mas\u001b[0m \u001b[0mpd\u001b[0m\u001b[1;33m\u001b[0m\u001b[1;33m\u001b[0m\u001b[0m\n",
      "\u001b[1;31mModuleNotFoundError\u001b[0m: No module named 'utils'"
     ]
    }
   ],
   "source": [
    "\n",
    "from utils.model import Perceptron\n",
    "from utils.all_utils import prepare_data, save_plot, save_model\n",
    "import pandas as pd\n",
    "\n",
    "\n",
    "def main(data, modelName, plotName, eta, epochs):\n",
    "    df = pd.DataFrame(data)\n",
    "    print(df)\n",
    "    X, y = prepare_data(df)\n",
    "    model = Perceptron(eta=eta, epochs=epochs)\n",
    "    model.fit(X, y)\n",
    "    _ = model.total_loss()\n",
    "    save_model(model, filename=modelName)\n",
    "    save_plot(df, plotName, model)\n",
    "\n",
    "\n",
    "\n",
    "OR = {\n",
    "\"x1\": [0,0,1,1],\n",
    "\"x2\": [0,1,0,1],\n",
    "\"y\": [0,1,1,1],\n",
    "}\n",
    "ETA = 0.3 # 0 and 1\n",
    "EPOCHS = 10\n",
    "main(data=OR, modelName=\"or.model\", plotName=\"or.png\", eta=ETA, epochs=EPOCHS)\n"
   ]
  }
 ],
 "metadata": {
  "interpreter": {
   "hash": "2f794e12f07f001b36713e2c626e1030faa86c56e94ef245c6bf948b61a722a2"
  },
  "kernelspec": {
   "display_name": "Python 3.7.11 64-bit ('oneNeuron': conda)",
   "name": "python3"
  },
  "language_info": {
   "codemirror_mode": {
    "name": "ipython",
    "version": 3
   },
   "file_extension": ".py",
   "mimetype": "text/x-python",
   "name": "python",
   "nbconvert_exporter": "python",
   "pygments_lexer": "ipython3",
   "version": "3.7.11"
  }
 },
 "nbformat": 4,
 "nbformat_minor": 5
}
